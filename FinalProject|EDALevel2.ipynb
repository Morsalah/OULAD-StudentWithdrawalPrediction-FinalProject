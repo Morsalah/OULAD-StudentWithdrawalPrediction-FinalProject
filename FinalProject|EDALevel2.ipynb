{
  "nbformat": 4,
  "nbformat_minor": 0,
  "metadata": {
    "colab": {
      "provenance": [],
      "authorship_tag": "ABX9TyM0kAm81iwYxS9K31I2gLJQ",
      "include_colab_link": true
    },
    "kernelspec": {
      "name": "python3",
      "display_name": "Python 3"
    },
    "language_info": {
      "name": "python"
    }
  },
  "cells": [
    {
      "cell_type": "markdown",
      "metadata": {
        "id": "view-in-github",
        "colab_type": "text"
      },
      "source": [
        "<a href=\"https://colab.research.google.com/github/Morsalah/OULAD-StudentWithdrawalPrediction-FinalProject/blob/main/FinalProject%7CEDALevel2.ipynb\" target=\"_parent\"><img src=\"https://colab.research.google.com/assets/colab-badge.svg\" alt=\"Open In Colab\"/></a>"
      ]
    },
    {
      "cell_type": "markdown",
      "source": [
        "# EDA Level 2"
      ],
      "metadata": {
        "id": "LJvvSnGrkI7e"
      }
    },
    {
      "cell_type": "markdown",
      "source": [
        "**OverAll Analysis**\n",
        "- **Time Series Analysis**: For files with time-based data (like `date`, `date_registration`, `date_unregistration`), a time series analysis could reveal trends over time or seasonal patterns in engagement or dropout rates.\n",
        "\n",
        "- **Correlation Matrix**: Investigate correlations between numeric variables (e.g., `score`, `sum_click`, `studied_credits`, `imd_band`) to identify any significant relationships that might warrant further exploration."
      ],
      "metadata": {
        "id": "yS1MzKZ7kDkN"
      }
    },
    {
      "cell_type": "markdown",
      "source": [
        "#### **Module and Presentation Impact on Assessments**\n",
        "   - **Goal**: Understand how module-specific factors (like duration) influence assessment patterns and student performance.\n",
        "   - **Process**:\n",
        "     - Join `courses` with `assessments` on `code_module` and `code_presentation`.\n",
        "     - Analyze the relationship between `length` and assessment timing or weights. For example:\n",
        "       - **Assessment Timing vs. Length**: Use a scatter plot of `length` against the assessment `date` to see if longer modules distribute assessments more evenly.\n",
        "       - **Assessment Weight by Module**: Group by `code_module` and aggregate the `weight` to check if some modules place more emphasis on specific assessments.\n",
        "\n",
        "#### **Impact of Student Demographics on VLE Engagement**\n",
        "   - **Goal**: Determine if demographics (e.g., age, education level, region) affect online engagement patterns.\n",
        "   - **Process**:\n",
        "     - Join `studentInfo` with `studentVle` on `id_student`, `code_module`, and `code_presentation`.\n",
        "     - Analyze engagement (`sum_click`) across demographic features:\n",
        "       - **Clicks by Age Band**: Box plot of `sum_click` grouped by `age_band` to see if engagement differs by age.\n",
        "       - **Clicks by Highest Education**: Box plot or bar plot to determine if education level affects interaction frequency.\n",
        "\n",
        "#### **Relationship Between Assessment Scores and Final Results**\n",
        "   - **Goal**: Investigate if assessment scores across different types affect final student outcomes.\n",
        "   - **Process**:\n",
        "     - Join `studentAssessment` with `studentInfo` on `id_student`, `code_module`, and `code_presentation`.\n",
        "     - Analyze the correlation between `score` and `final_result`:\n",
        "       - **Score by Final Result**: Violin or box plot to see if students who achieve `Pass` or `Distinction` consistently have higher scores in assessments.\n",
        "       - **Assessment Type Impact**: Separate by `assessment_type` to check if certain assessments (e.g., TMAs, Exams) are more predictive of final results.\n",
        "\n",
        "#### **Impact of Registration Patterns on Success**\n",
        "   - **Goal**: Determine if the timing of student registration/unregistration affects their final outcomes.\n",
        "   - **Process**:\n",
        "     - Join `studentRegistration` with `studentInfo` on `id_student`, `code_module`, and `code_presentation`.\n",
        "     - Analyze features like `date_registration` and `date_unregistration` against `final_result`:\n",
        "       - **Registration Timing and Success**: Plot `date_registration` against `final_result` to check if early registrants tend to pass more often.\n",
        "       - **Unregistration Analysis**: Plot `date_unregistration` for students who withdrew, looking for patterns in timing and demographics.\n",
        "\n",
        "#### **Assessment Type and Interaction with VLE Materials**\n",
        "   - **Goal**: Examine if the type or weight of assessments is related to student engagement with VLE materials.\n",
        "   - **Process**:\n",
        "     - Join `assessments`, `studentVle`, and `studentAssessment` on `code_module`, `code_presentation`, and `id_student`.\n",
        "     - Check if assessment types with higher weight drive more interactions:\n",
        "       - **Assessment Date vs. Interaction Frequency**: Line plot showing VLE `sum_click` over time, with major assessment dates overlaid.\n",
        "       - **Impact of Final Exam Weight on Engagement**: Compare modules where the final exam has significant weight vs. lower weight and see if this affects interaction levels.\n",
        "\n",
        "#### **Exploring Relationships Between Region, Disability, and Academic Performance**\n",
        "   - **Goal**: Investigate if region or disability status influences final results, performance in assessments, or engagement.\n",
        "   - **Process**:\n",
        "     - Merge `studentInfo` with `studentAssessment` and `studentVle`.\n",
        "     - Perform regional and disability-based analysis:\n",
        "       - **Region vs. Final Result**: Bar plot of `final_result` by `region` to see if outcomes differ by geography.\n",
        "       - **Disability and Performance**: Compare `score` distributions or `final_result` counts for students with and without disabilities."
      ],
      "metadata": {
        "id": "uLFBhMhKkWRL"
      }
    }
  ]
}