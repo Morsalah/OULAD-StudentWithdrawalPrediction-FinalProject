{
  "nbformat": 4,
  "nbformat_minor": 0,
  "metadata": {
    "colab": {
      "provenance": [],
      "gpuType": "T4",
      "authorship_tag": "ABX9TyOCR7nVnwhiT/nAGdJRQh6K",
      "include_colab_link": true
    },
    "kernelspec": {
      "name": "python3",
      "display_name": "Python 3"
    },
    "language_info": {
      "name": "python"
    },
    "accelerator": "GPU"
  },
  "cells": [
    {
      "cell_type": "markdown",
      "metadata": {
        "id": "view-in-github",
        "colab_type": "text"
      },
      "source": [
        "<a href=\"https://colab.research.google.com/github/Morsalah/OULAD-StudentWithdrawalPrediction-FinalProject/blob/main/feature_engineering.ipynb\" target=\"_parent\"><img src=\"https://colab.research.google.com/assets/colab-badge.svg\" alt=\"Open In Colab\"/></a>"
      ]
    },
    {
      "cell_type": "code",
      "execution_count": 2,
      "metadata": {
        "id": "_Doj3Z2a_cCV"
      },
      "outputs": [],
      "source": [
        "import pandas as pd\n",
        "\n",
        "Courses = pd.read_csv('Courses_cleaned.csv')\n",
        "Vle = pd.read_csv('Vle_cleaned.csv')\n",
        "StudentVle= pd.read_csv('StudentVle_cleaned.csv')\n"
      ]
    },
    {
      "cell_type": "code",
      "source": [
        "# Merge `courses` and `vle` on `code_module` and `code_presentation`\n",
        "\n",
        "courses_vle = pd.merge(Courses, Vle, on=['code_module', 'code_presentation'], how='inner')\n",
        "table = pd.merge(courses_vle,StudentVle, on=['code_module', 'code_presentation'], how='inner')"
      ],
      "metadata": {
        "id": "pvD_EKYgMaug"
      },
      "execution_count": null,
      "outputs": []
    },
    {
      "cell_type": "code",
      "source": [
        "# Create new features\n",
        "table['available_material'] = table['week_to'] - table['week_from']\n",
        "table['available_material_PER_module_length'] = table['available_material'] / table['length']\n",
        "table['sum_click_PER_available_material'] = table['sum_click'] / table['available_material']"
      ],
      "metadata": {
        "id": "au2_CL5vIA1w"
      },
      "execution_count": null,
      "outputs": []
    }
  ]
}